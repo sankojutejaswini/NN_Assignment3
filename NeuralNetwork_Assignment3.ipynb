{
 "cells": [
  {
   "cell_type": "code",
   "execution_count": 3,
   "id": "411ca2ca",
   "metadata": {},
   "outputs": [
    {
     "name": "stdout",
     "output_type": "stream",
     "text": [
      "Full time employees\n",
      "the number of Employees are: 4\n",
      "Avg sal: 637502.0\n"
     ]
    }
   ],
   "source": [
    "#create a class\n",
    "class Employee:\n",
    "    #initialize count to 0\n",
    "    count=0\n",
    "    #__init__ is a constructor which as set of parameters in it\n",
    "    def __init__(a,name,family,salary,dept):\n",
    "    #creating set if instances\n",
    "        a.name=name\n",
    "        a.family=family\n",
    "        a.salary=salary\n",
    "        a.dept=dept\n",
    "        Employee.count = Employee.count+1\n",
    "    #defining functions\n",
    "    def disCount(a):\n",
    "        print(\"the number of Employees are:\",a.count)\n",
    "    def avg_sal(a):\n",
    "        sum = 0\n",
    "        for employee in a:\n",
    "            sum= sum+employee.salary\n",
    "        return sum/Employee.count\n",
    " #creating a child class       \n",
    "class Fulltime_Employee(Employee):\n",
    "    def __init__(a,name,family,salary,dept):\n",
    "        #super() is used to give access to methods of parent class\n",
    "        super().__init__(name,family,salary,dept)\n",
    "        \n",
    "    def Fulltime_Emp(a):\n",
    "        print(\"Full time employees\")\n",
    "def main():\n",
    "    employees = []\n",
    "    #creating instances and calling the member functions \n",
    "    fe1 = Fulltime_Employee(\"Tejaswini\",\"Sankoju\",1000000,\"Software\")\n",
    "    fe1.Fulltime_Emp()\n",
    "    employees.append(fe1)\n",
    "    fe2 = Fulltime_Employee(\"Akhil Nagasai\",\"Kuriti\",500000,\"Machanical\")\n",
    "    fe1.Fulltime_Emp\n",
    "    employees.append(fe2)\n",
    "    e1 = Employee (\"Vyshali\",\"Gaddam\", 1000008,\"CIS\")\n",
    "    employees.append(e1)\n",
    "    e2 = Employee (\"Divya\", \"gaddam\",50000,\"Data engineer\")\n",
    "    employees.append(e2)\n",
    "    #Displaying the count of the employees\n",
    "    e1.disCount()\n",
    "    print(\"Avg sal:\",Fulltime_Employee.avg_sal(employees))\n",
    "if __name__ == \"__main__\":\n",
    "    main()"
   ]
  },
  {
   "cell_type": "code",
   "execution_count": 4,
   "id": "40418e3c",
   "metadata": {},
   "outputs": [
    {
     "name": "stdout",
     "output_type": "stream",
     "text": [
      "random vctr size [ 2.38285497  9.14285954 19.29684638  4.04667904  5.14086408 19.01568266\n",
      " 18.08949906  7.70099653  2.33725796  1.97213482  8.73043652  2.02557277\n",
      " 10.65784873  3.98992127  3.18072285  2.61347115  2.77289359 16.81918029\n",
      "  7.7629406  15.12671374]\n",
      "reshaping array to 4 [[ 2.38285497  9.14285954 19.29684638  4.04667904  5.14086408]\n",
      " [19.01568266 18.08949906  7.70099653  2.33725796  1.97213482]\n",
      " [ 8.73043652  2.02557277 10.65784873  3.98992127  3.18072285]\n",
      " [ 2.61347115  2.77289359 16.81918029  7.7629406  15.12671374]]\n",
      "replacing maximum in each row by 0 [[ 2.38285497  9.14285954  0.          4.04667904  5.14086408]\n",
      " [ 0.         18.08949906  7.70099653  2.33725796  1.97213482]\n",
      " [ 8.73043652  2.02557277  0.          3.98992127  3.18072285]\n",
      " [ 2.61347115  2.77289359  0.          7.7629406  15.12671374]]\n"
     ]
    }
   ],
   "source": [
    "#importing numpy libraries\n",
    "import numpy as ny\n",
    "x = ny.random.uniform(1,20,20)\n",
    "print(\"random vctr size\",x)\n",
    "#reshaping the array size\n",
    "y = x.reshape((4,5))\n",
    "print('reshaping array to 4',y)\n",
    "#replacing the maximum value to 0\n",
    "z = ny.where(y==ny.amax(y,axis=1).reshape(-1,1),0,y)\n",
    "print('replacing maximum in each row by 0',z)"
   ]
  }
 ],
 "metadata": {
  "kernelspec": {
   "display_name": "Python 3 (ipykernel)",
   "language": "python",
   "name": "python3"
  },
  "language_info": {
   "codemirror_mode": {
    "name": "ipython",
    "version": 3
   },
   "file_extension": ".py",
   "mimetype": "text/x-python",
   "name": "python",
   "nbconvert_exporter": "python",
   "pygments_lexer": "ipython3",
   "version": "3.9.7"
  }
 },
 "nbformat": 4,
 "nbformat_minor": 5
}
